{
 "cells": [
  {
   "cell_type": "code",
   "id": "initial_id",
   "metadata": {
    "collapsed": true,
    "ExecuteTime": {
     "end_time": "2024-10-07T08:49:16.462157278Z",
     "start_time": "2024-10-07T08:49:02.925964Z"
    }
   },
   "source": [
    "import os\n",
    "import subprocess\n",
    "\n",
    "input_folder = \"/home/radiology/Clara_intern/DataBaseWB_NII_Pix2Pix/CT\"  \n",
    "output_folder = \"/home/radiology/Clara_intern/DataBaseWB_NII_Pix2Pix/Totalsegmentator_CT\"  \n",
    "\n",
    "os.makedirs(output_folder, exist_ok=True)\n",
    "\n",
    "nifti_files = [f for f in os.listdir(input_folder) if f.endswith(\".nii\") or f.endswith(\".nii.gz\")]\n",
    "\n",
    "\n",
    "for nifti_file in nifti_files:\n",
    "\n",
    "    input_nifti_path = os.path.join(input_folder, nifti_file)\n",
    "\n",
    "    output_path = os.path.join(output_folder, os.path.splitext(nifti_file)[0])  \n",
    "\n",
    "    # Create the output folder (same name as input file without extension)\n",
    "    os.makedirs(output_path, exist_ok=True)\n",
    "    \n",
    "    # Define the TotalSegmentator command\n",
    "    cmd = [\n",
    "        \"TotalSegmentator\",\n",
    "        \"-i\", input_nifti_path,\n",
    "        \"-o\", output_path,\n",
    "        \"--body_seg\",\n",
    "        \"--ta\", \"tissue_types\",\n",
    "        \"--statistics\"\n",
    "    ]\n",
    "\n",
    "    # Run the command\n",
    "    subprocess.run(cmd)\n",
    "    print(f\"Processed {nifti_file}\")\n",
    "\n",
    "# Print when all files are processed\n",
    "print(\"All files processed.\")\n"
   ],
   "outputs": [
    {
     "name": "stderr",
     "output_type": "stream",
     "text": [
      "/home/radiology/anaconda3/envs/TEST/lib/python3.9/site-packages/nnunetv2/inference/predict_from_raw_data.py:84: FutureWarning: You are using `torch.load` with `weights_only=False` (the current default value), which uses the default pickle module implicitly. It is possible to construct malicious pickle data which will execute arbitrary code during unpickling (See https://github.com/pytorch/pytorch/blob/main/SECURITY.md#untrusted-models for more details). In a future release, the default value for `weights_only` will be flipped to `True`. This limits the functions that could be executed during unpickling. Arbitrary objects will no longer be allowed to be loaded via this mode unless they are explicitly allowlisted by the user via `torch.serialization.add_safe_globals`. We recommend you start setting `weights_only=True` for any use case where you don't have full control of the loaded file. Please open an issue on GitHub for any issues related to this experimental feature.\n",
      "  checkpoint = torch.load(join(model_training_output_dir, f'fold_{f}', checkpoint_name),\n",
      "Process SpawnProcess-16:\n",
      "Traceback (most recent call last):\n",
      "  File \"/home/radiology/anaconda3/envs/TEST/lib/python3.9/multiprocessing/process.py\", line 315, in _bootstrap\n",
      "    self.run()\n",
      "  File \"/home/radiology/anaconda3/envs/TEST/lib/python3.9/multiprocessing/process.py\", line 108, in run\n",
      "    self._target(*self._args, **self._kwargs)\n",
      "  File \"/home/radiology/anaconda3/envs/TEST/lib/python3.9/site-packages/nnunetv2/inference/data_iterators.py\", line 58, in preprocess_fromfiles_save_to_queue\n",
      "    raise e\n",
      "  File \"/home/radiology/anaconda3/envs/TEST/lib/python3.9/site-packages/nnunetv2/inference/data_iterators.py\", line 31, in preprocess_fromfiles_save_to_queue\n",
      "    data, seg, data_properties = preprocessor.run_case(list_of_lists[idx],\n",
      "  File \"/home/radiology/anaconda3/envs/TEST/lib/python3.9/site-packages/nnunetv2/preprocessing/preprocessors/default_preprocessor.py\", line 131, in run_case\n",
      "    data, data_properties = rw.read_images(image_files)\n",
      "  File \"/home/radiology/anaconda3/envs/TEST/lib/python3.9/site-packages/nnunetv2/imageio/nibabel_reader_writer.py\", line 167, in read_images\n",
      "    return np.vstack(images, dtype=np.float32, casting='unsafe'), dict\n",
      "  File \"<__array_function__ internals>\", line 179, in vstack\n",
      "TypeError: _vhstack_dispatcher() got an unexpected keyword argument 'dtype'\n",
      "Traceback (most recent call last):\n",
      "  File \"/home/radiology/anaconda3/envs/TEST/bin/TotalSegmentator\", line 8, in <module>\n",
      "    sys.exit(main())\n",
      "  File \"/home/radiology/anaconda3/envs/TEST/lib/python3.9/site-packages/totalsegmentator/bin/TotalSegmentator.py\", line 138, in main\n",
      "    totalsegmentator(args.input, args.output, args.ml, args.nr_thr_resamp, args.nr_thr_saving,\n",
      "  File \"/home/radiology/anaconda3/envs/TEST/lib/python3.9/site-packages/totalsegmentator/python_api.py\", line 457, in totalsegmentator\n",
      "    body_seg, _, _ = nnUNet_predict_image(input, None, 300, model=\"3d_fullres\", folds=[0],\n",
      "  File \"/home/radiology/anaconda3/envs/TEST/lib/python3.9/site-packages/totalsegmentator/nnunet.py\", line 484, in nnUNet_predict_image\n",
      "    nnUNetv2_predict(tmp_dir, tmp_dir, task_id, model, folds, trainer, tta,\n",
      "  File \"/home/radiology/anaconda3/envs/TEST/lib/python3.9/site-packages/totalsegmentator/nnunet.py\", line 251, in nnUNetv2_predict\n",
      "    predictor.predict_from_files(dir_in, dir_out,\n",
      "  File \"/home/radiology/anaconda3/envs/TEST/lib/python3.9/site-packages/nnunetv2/inference/predict_from_raw_data.py\", line 258, in predict_from_files\n",
      "    return self.predict_from_data_iterator(data_iterator, save_probabilities, num_processes_segmentation_export)\n",
      "  File \"/home/radiology/anaconda3/envs/TEST/lib/python3.9/site-packages/nnunetv2/inference/predict_from_raw_data.py\", line 351, in predict_from_data_iterator\n",
      "    for preprocessed in data_iterator:\n",
      "  File \"/home/radiology/anaconda3/envs/TEST/lib/python3.9/site-packages/nnunetv2/inference/data_iterators.py\", line 111, in preprocessing_iterator_fromfiles\n",
      "    raise RuntimeError('Background workers died. Look for the error message further up! If there is '\n",
      "RuntimeError: Background workers died. Look for the error message further up! If there is none then your RAM was full and the worker was killed by the OS. Use fewer workers or get more RAM in that case!\n"
     ]
    },
    {
     "name": "stdout",
     "output_type": "stream",
     "text": [
      "\n",
      "If you use this tool please cite: https://pubs.rsna.org/doi/10.1148/ryai.230024\n",
      "\n",
      "Generating rough body segmentation...\n",
      "Resampling...\n",
      "  Resampled in 3.51s\n",
      "Predicting...\n",
      "\n",
      "If you use this tool please cite: https://pubs.rsna.org/doi/10.1148/ryai.230024\n",
      "\n",
      "Generating rough body segmentation...\n",
      "Resampling...\n",
      "  Resampled in 3.51s\n",
      "Predicting...\n",
      "Processed 401396535_CT_1.nii.gz\n"
     ]
    },
    {
     "name": "stderr",
     "output_type": "stream",
     "text": [
      "Traceback (most recent call last):\n",
      "  File \"/home/radiology/anaconda3/envs/TEST/bin/TotalSegmentator\", line 5, in <module>\n",
      "    from totalsegmentator.bin.TotalSegmentator import main\n",
      "  File \"/home/radiology/anaconda3/envs/TEST/lib/python3.9/site-packages/totalsegmentator/bin/TotalSegmentator.py\", line 6, in <module>\n",
      "    from totalsegmentator.python_api import totalsegmentator, validate_device_type_api\n",
      "  File \"/home/radiology/anaconda3/envs/TEST/lib/python3.9/site-packages/totalsegmentator/python_api.py\", line 12, in <module>\n",
      "    import torch\n",
      "  File \"/home/radiology/anaconda3/envs/TEST/lib/python3.9/site-packages/torch/__init__.py\", line 290, in <module>\n",
      "    from torch._C import *  # noqa: F403\n",
      "KeyboardInterrupt\n"
     ]
    },
    {
     "ename": "KeyboardInterrupt",
     "evalue": "",
     "output_type": "error",
     "traceback": [
      "\u001B[0;31m---------------------------------------------------------------------------\u001B[0m",
      "\u001B[0;31mKeyboardInterrupt\u001B[0m                         Traceback (most recent call last)",
      "Cell \u001B[0;32mIn[16], line 32\u001B[0m\n\u001B[1;32m     22\u001B[0m     cmd \u001B[38;5;241m=\u001B[39m [\n\u001B[1;32m     23\u001B[0m         \u001B[38;5;124m\"\u001B[39m\u001B[38;5;124mTotalSegmentator\u001B[39m\u001B[38;5;124m\"\u001B[39m,\n\u001B[1;32m     24\u001B[0m         \u001B[38;5;124m\"\u001B[39m\u001B[38;5;124m-i\u001B[39m\u001B[38;5;124m\"\u001B[39m, input_nifti_path,\n\u001B[0;32m   (...)\u001B[0m\n\u001B[1;32m     28\u001B[0m         \u001B[38;5;124m\"\u001B[39m\u001B[38;5;124m--statistics\u001B[39m\u001B[38;5;124m\"\u001B[39m\n\u001B[1;32m     29\u001B[0m     ]\n\u001B[1;32m     31\u001B[0m     \u001B[38;5;66;03m# Run the command\u001B[39;00m\n\u001B[0;32m---> 32\u001B[0m     \u001B[43msubprocess\u001B[49m\u001B[38;5;241;43m.\u001B[39;49m\u001B[43mrun\u001B[49m\u001B[43m(\u001B[49m\u001B[43mcmd\u001B[49m\u001B[43m)\u001B[49m\n\u001B[1;32m     33\u001B[0m     \u001B[38;5;28mprint\u001B[39m(\u001B[38;5;124mf\u001B[39m\u001B[38;5;124m\"\u001B[39m\u001B[38;5;124mProcessed \u001B[39m\u001B[38;5;132;01m{\u001B[39;00mnifti_file\u001B[38;5;132;01m}\u001B[39;00m\u001B[38;5;124m\"\u001B[39m)\n\u001B[1;32m     35\u001B[0m \u001B[38;5;66;03m# Print when all files are processed\u001B[39;00m\n",
      "File \u001B[0;32m~/anaconda3/envs/TEST/lib/python3.9/subprocess.py:507\u001B[0m, in \u001B[0;36mrun\u001B[0;34m(input, capture_output, timeout, check, *popenargs, **kwargs)\u001B[0m\n\u001B[1;32m    505\u001B[0m \u001B[38;5;28;01mwith\u001B[39;00m Popen(\u001B[38;5;241m*\u001B[39mpopenargs, \u001B[38;5;241m*\u001B[39m\u001B[38;5;241m*\u001B[39mkwargs) \u001B[38;5;28;01mas\u001B[39;00m process:\n\u001B[1;32m    506\u001B[0m     \u001B[38;5;28;01mtry\u001B[39;00m:\n\u001B[0;32m--> 507\u001B[0m         stdout, stderr \u001B[38;5;241m=\u001B[39m \u001B[43mprocess\u001B[49m\u001B[38;5;241;43m.\u001B[39;49m\u001B[43mcommunicate\u001B[49m\u001B[43m(\u001B[49m\u001B[38;5;28;43minput\u001B[39;49m\u001B[43m,\u001B[49m\u001B[43m \u001B[49m\u001B[43mtimeout\u001B[49m\u001B[38;5;241;43m=\u001B[39;49m\u001B[43mtimeout\u001B[49m\u001B[43m)\u001B[49m\n\u001B[1;32m    508\u001B[0m     \u001B[38;5;28;01mexcept\u001B[39;00m TimeoutExpired \u001B[38;5;28;01mas\u001B[39;00m exc:\n\u001B[1;32m    509\u001B[0m         process\u001B[38;5;241m.\u001B[39mkill()\n",
      "File \u001B[0;32m~/anaconda3/envs/TEST/lib/python3.9/subprocess.py:1126\u001B[0m, in \u001B[0;36mPopen.communicate\u001B[0;34m(self, input, timeout)\u001B[0m\n\u001B[1;32m   1124\u001B[0m         stderr \u001B[38;5;241m=\u001B[39m \u001B[38;5;28mself\u001B[39m\u001B[38;5;241m.\u001B[39mstderr\u001B[38;5;241m.\u001B[39mread()\n\u001B[1;32m   1125\u001B[0m         \u001B[38;5;28mself\u001B[39m\u001B[38;5;241m.\u001B[39mstderr\u001B[38;5;241m.\u001B[39mclose()\n\u001B[0;32m-> 1126\u001B[0m     \u001B[38;5;28;43mself\u001B[39;49m\u001B[38;5;241;43m.\u001B[39;49m\u001B[43mwait\u001B[49m\u001B[43m(\u001B[49m\u001B[43m)\u001B[49m\n\u001B[1;32m   1127\u001B[0m \u001B[38;5;28;01melse\u001B[39;00m:\n\u001B[1;32m   1128\u001B[0m     \u001B[38;5;28;01mif\u001B[39;00m timeout \u001B[38;5;129;01mis\u001B[39;00m \u001B[38;5;129;01mnot\u001B[39;00m \u001B[38;5;28;01mNone\u001B[39;00m:\n",
      "File \u001B[0;32m~/anaconda3/envs/TEST/lib/python3.9/subprocess.py:1189\u001B[0m, in \u001B[0;36mPopen.wait\u001B[0;34m(self, timeout)\u001B[0m\n\u001B[1;32m   1187\u001B[0m     endtime \u001B[38;5;241m=\u001B[39m _time() \u001B[38;5;241m+\u001B[39m timeout\n\u001B[1;32m   1188\u001B[0m \u001B[38;5;28;01mtry\u001B[39;00m:\n\u001B[0;32m-> 1189\u001B[0m     \u001B[38;5;28;01mreturn\u001B[39;00m \u001B[38;5;28;43mself\u001B[39;49m\u001B[38;5;241;43m.\u001B[39;49m\u001B[43m_wait\u001B[49m\u001B[43m(\u001B[49m\u001B[43mtimeout\u001B[49m\u001B[38;5;241;43m=\u001B[39;49m\u001B[43mtimeout\u001B[49m\u001B[43m)\u001B[49m\n\u001B[1;32m   1190\u001B[0m \u001B[38;5;28;01mexcept\u001B[39;00m \u001B[38;5;167;01mKeyboardInterrupt\u001B[39;00m:\n\u001B[1;32m   1191\u001B[0m     \u001B[38;5;66;03m# https://bugs.python.org/issue25942\u001B[39;00m\n\u001B[1;32m   1192\u001B[0m     \u001B[38;5;66;03m# The first keyboard interrupt waits briefly for the child to\u001B[39;00m\n\u001B[1;32m   1193\u001B[0m     \u001B[38;5;66;03m# exit under the common assumption that it also received the ^C\u001B[39;00m\n\u001B[1;32m   1194\u001B[0m     \u001B[38;5;66;03m# generated SIGINT and will exit rapidly.\u001B[39;00m\n\u001B[1;32m   1195\u001B[0m     \u001B[38;5;28;01mif\u001B[39;00m timeout \u001B[38;5;129;01mis\u001B[39;00m \u001B[38;5;129;01mnot\u001B[39;00m \u001B[38;5;28;01mNone\u001B[39;00m:\n",
      "File \u001B[0;32m~/anaconda3/envs/TEST/lib/python3.9/subprocess.py:1933\u001B[0m, in \u001B[0;36mPopen._wait\u001B[0;34m(self, timeout)\u001B[0m\n\u001B[1;32m   1931\u001B[0m \u001B[38;5;28;01mif\u001B[39;00m \u001B[38;5;28mself\u001B[39m\u001B[38;5;241m.\u001B[39mreturncode \u001B[38;5;129;01mis\u001B[39;00m \u001B[38;5;129;01mnot\u001B[39;00m \u001B[38;5;28;01mNone\u001B[39;00m:\n\u001B[1;32m   1932\u001B[0m     \u001B[38;5;28;01mbreak\u001B[39;00m  \u001B[38;5;66;03m# Another thread waited.\u001B[39;00m\n\u001B[0;32m-> 1933\u001B[0m (pid, sts) \u001B[38;5;241m=\u001B[39m \u001B[38;5;28;43mself\u001B[39;49m\u001B[38;5;241;43m.\u001B[39;49m\u001B[43m_try_wait\u001B[49m\u001B[43m(\u001B[49m\u001B[38;5;241;43m0\u001B[39;49m\u001B[43m)\u001B[49m\n\u001B[1;32m   1934\u001B[0m \u001B[38;5;66;03m# Check the pid and loop as waitpid has been known to\u001B[39;00m\n\u001B[1;32m   1935\u001B[0m \u001B[38;5;66;03m# return 0 even without WNOHANG in odd situations.\u001B[39;00m\n\u001B[1;32m   1936\u001B[0m \u001B[38;5;66;03m# http://bugs.python.org/issue14396.\u001B[39;00m\n\u001B[1;32m   1937\u001B[0m \u001B[38;5;28;01mif\u001B[39;00m pid \u001B[38;5;241m==\u001B[39m \u001B[38;5;28mself\u001B[39m\u001B[38;5;241m.\u001B[39mpid:\n",
      "File \u001B[0;32m~/anaconda3/envs/TEST/lib/python3.9/subprocess.py:1891\u001B[0m, in \u001B[0;36mPopen._try_wait\u001B[0;34m(self, wait_flags)\u001B[0m\n\u001B[1;32m   1889\u001B[0m \u001B[38;5;250m\u001B[39m\u001B[38;5;124;03m\"\"\"All callers to this function MUST hold self._waitpid_lock.\"\"\"\u001B[39;00m\n\u001B[1;32m   1890\u001B[0m \u001B[38;5;28;01mtry\u001B[39;00m:\n\u001B[0;32m-> 1891\u001B[0m     (pid, sts) \u001B[38;5;241m=\u001B[39m \u001B[43mos\u001B[49m\u001B[38;5;241;43m.\u001B[39;49m\u001B[43mwaitpid\u001B[49m\u001B[43m(\u001B[49m\u001B[38;5;28;43mself\u001B[39;49m\u001B[38;5;241;43m.\u001B[39;49m\u001B[43mpid\u001B[49m\u001B[43m,\u001B[49m\u001B[43m \u001B[49m\u001B[43mwait_flags\u001B[49m\u001B[43m)\u001B[49m\n\u001B[1;32m   1892\u001B[0m \u001B[38;5;28;01mexcept\u001B[39;00m \u001B[38;5;167;01mChildProcessError\u001B[39;00m:\n\u001B[1;32m   1893\u001B[0m     \u001B[38;5;66;03m# This happens if SIGCLD is set to be ignored or waiting\u001B[39;00m\n\u001B[1;32m   1894\u001B[0m     \u001B[38;5;66;03m# for child processes has otherwise been disabled for our\u001B[39;00m\n\u001B[1;32m   1895\u001B[0m     \u001B[38;5;66;03m# process.  This child is dead, we can't get the status.\u001B[39;00m\n\u001B[1;32m   1896\u001B[0m     pid \u001B[38;5;241m=\u001B[39m \u001B[38;5;28mself\u001B[39m\u001B[38;5;241m.\u001B[39mpid\n",
      "\u001B[0;31mKeyboardInterrupt\u001B[0m: "
     ]
    }
   ],
   "execution_count": 16
  },
  {
   "metadata": {
    "ExecuteTime": {
     "end_time": "2024-10-07T08:51:43.518927Z",
     "start_time": "2024-10-07T08:51:42.676102Z"
    }
   },
   "cell_type": "code",
   "source": "",
   "id": "faf95fb9b123e682",
   "outputs": [
    {
     "name": "stdout",
     "output_type": "stream",
     "text": [
      "no change     /home/radiology/anaconda3/condabin/conda\r\n",
      "no change     /home/radiology/anaconda3/bin/conda\r\n",
      "no change     /home/radiology/anaconda3/bin/conda-env\r\n",
      "no change     /home/radiology/anaconda3/bin/activate\r\n",
      "no change     /home/radiology/anaconda3/bin/deactivate\r\n",
      "no change     /home/radiology/anaconda3/etc/profile.d/conda.sh\r\n",
      "no change     /home/radiology/anaconda3/etc/fish/conf.d/conda.fish\r\n",
      "no change     /home/radiology/anaconda3/shell/condabin/Conda.psm1\r\n",
      "no change     /home/radiology/anaconda3/shell/condabin/conda-hook.ps1\r\n",
      "no change     /home/radiology/anaconda3/lib/python3.11/site-packages/xontrib/conda.xsh\r\n",
      "no change     /home/radiology/anaconda3/etc/profile.d/conda.csh\r\n",
      "no change     /home/radiology/.bashrc\r\n",
      "No action taken.\r\n",
      "\n",
      "Note: you may need to restart the kernel to use updated packages.\n"
     ]
    }
   ],
   "execution_count": 2
  },
  {
   "metadata": {},
   "cell_type": "code",
   "outputs": [],
   "execution_count": null,
   "source": "",
   "id": "ef0052a5942c3bc7"
  }
 ],
 "metadata": {
  "kernelspec": {
   "display_name": "Python 3",
   "language": "python",
   "name": "python3"
  },
  "language_info": {
   "codemirror_mode": {
    "name": "ipython",
    "version": 2
   },
   "file_extension": ".py",
   "mimetype": "text/x-python",
   "name": "python",
   "nbconvert_exporter": "python",
   "pygments_lexer": "ipython2",
   "version": "2.7.6"
  }
 },
 "nbformat": 4,
 "nbformat_minor": 5
}
